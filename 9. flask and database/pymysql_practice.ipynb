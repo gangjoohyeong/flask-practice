{
 "cells": [
  {
   "cell_type": "code",
   "execution_count": 7,
   "metadata": {},
   "outputs": [
    {
     "data": {
      "text/plain": [
       "<pymysql.cursors.Cursor at 0x1827ea8f450>"
      ]
     },
     "execution_count": 7,
     "metadata": {},
     "output_type": "execute_result"
    }
   ],
   "source": [
    "import pymysql\n",
    "\n",
    "# connect\n",
    "db_conn = pymysql.connect(\n",
    "    host='localhost',\n",
    "    port=3306,\n",
    "    user='joohyeong',\n",
    "    passwd='gang',\n",
    "    db='blog_db',\n",
    "    charset='utf8',\n",
    ")\n",
    "\n",
    "# cursor 지정\n",
    "joohyeong_db = db_conn.cursor()\n",
    "joohyeong_db"
   ]
  },
  {
   "cell_type": "code",
   "execution_count": 11,
   "metadata": {},
   "outputs": [
    {
     "data": {
      "text/plain": [
       "0"
      ]
     },
     "execution_count": 11,
     "metadata": {},
     "output_type": "execute_result"
    }
   ],
   "source": [
    "# 테이블 수 확인 SQL\n",
    "sql = 'SHOW TABLES;'\n",
    "\n",
    "# execute() 메소드로 해당 SQL문 실행\n",
    "# 테이블 없으니까 0 출력\n",
    "joohyeong_db.execute(sql)"
   ]
  },
  {
   "cell_type": "code",
   "execution_count": 12,
   "metadata": {},
   "outputs": [],
   "source": [
    "sql = \"\"\"\n",
    "CREATE TABLE user_info (\n",
    "    USER_ID INT UNSIGNED NOT NULL AUTO_INCREMENT,\n",
    "    USER_EMAIL VARCHAR(100) NOT NULL,\n",
    "    BLOG_ID CHAR(4),\n",
    "    PRIMARY KEY(USER_ID)\n",
    ");\n",
    "\"\"\"\n",
    "\n",
    "joohyeong_db.execute(sql)\n",
    "db_conn.commit()"
   ]
  },
  {
   "cell_type": "code",
   "execution_count": 13,
   "metadata": {},
   "outputs": [
    {
     "data": {
      "text/plain": [
       "1"
      ]
     },
     "execution_count": 13,
     "metadata": {},
     "output_type": "execute_result"
    }
   ],
   "source": [
    "# 테이블 수 확인 SQL\n",
    "sql = 'SHOW TABLES;'\n",
    "\n",
    "# 테이블 하나 생성했으니까 1 출력\n",
    "joohyeong_db.execute(sql)"
   ]
  },
  {
   "cell_type": "code",
   "execution_count": 22,
   "metadata": {},
   "outputs": [],
   "source": [
    "# user_info 테이블 삭제하기\n",
    "\n",
    "sql = 'DROP TABLE user_info;'\n",
    "joohyeong_db.execute(sql)\n",
    "db_conn.commit()"
   ]
  },
  {
   "cell_type": "code",
   "execution_count": 23,
   "metadata": {},
   "outputs": [
    {
     "data": {
      "text/plain": [
       "0"
      ]
     },
     "execution_count": 23,
     "metadata": {},
     "output_type": "execute_result"
    }
   ],
   "source": [
    "# 테이블 수 확인 SQL\n",
    "sql = 'SHOW TABLES;'\n",
    "\n",
    "# 테이블 삭제했으니까 0 출력\n",
    "joohyeong_db.execute(sql)"
   ]
  },
  {
   "cell_type": "code",
   "execution_count": 24,
   "metadata": {},
   "outputs": [],
   "source": [
    "# 테이블 다시 생성하고 데이터 넣기\n",
    "\n",
    "### 테이블 생성\n",
    "sql = \"\"\"\n",
    "CREATE TABLE user_info (\n",
    "    USER_ID INT UNSIGNED NOT NULL AUTO_INCREMENT,\n",
    "    USER_EMAIL VARCHAR(100) NOT NULL,\n",
    "    BLOG_ID CHAR(4),\n",
    "    PRIMARY KEY(USER_ID)\n",
    ");\n",
    "\"\"\"\n",
    "joohyeong_db.execute(sql)\n",
    "db_conn.commit() # 데이터베이스를 변경하는 명령은 commit() 해주기\n",
    "\n",
    "\n",
    "### 테이블에 데이터 삽입\n",
    "\n",
    "user_emails = ['bles@kakao.com', 'gang@dgu.ac.kr', 'net_rkd4948@naver.com', 'kamjabat@gmail.com']\n",
    "blog_ids = ['A', 'B', 'C', 'D']\n",
    "\n",
    "for user_email, blog_id in zip(user_emails, blog_ids):\n",
    "    sql = \"INSERT INTO user_info (USER_EMAIL, BLOG_ID) VALUES ('%s', '%s')\" % (str(user_email), str(blog_id))\n",
    "    joohyeong_db.execute(sql)\n",
    "    db_conn.commit()"
   ]
  },
  {
   "cell_type": "code",
   "execution_count": 25,
   "metadata": {},
   "outputs": [
    {
     "name": "stdout",
     "output_type": "stream",
     "text": [
      "(1, 'bles@kakao.com', 'A') <class 'tuple'>\n",
      "(2, 'gang@dgu.ac.kr', 'B') <class 'tuple'>\n",
      "(3, 'net_rkd4948@naver.com', 'C') <class 'tuple'>\n",
      "(4, 'kamjabat@gmail.com', 'D') <class 'tuple'>\n"
     ]
    }
   ],
   "source": [
    "# fetch: mysql 서버에서 데이터 가져오기\n",
    "## fetchall(): Fetch all the rows\n",
    "## fetchmany(size=None): Fetch several rows\n",
    "## fetchone(): Fetch the next row\n",
    "\n",
    "# user_info 테이블에서 전체 행 선택 SQL문\n",
    "sql = \"SELECT * FROM user_info\"\n",
    "joohyeong_db.execute(sql)\n",
    "\n",
    "# 위에서 SELECT한 행들 전부 가져오기\n",
    "results = joohyeong_db.fetchall()\n",
    "\n",
    "for result in results:\n",
    "    print(result, type(result))\n"
   ]
  },
  {
   "cell_type": "code",
   "execution_count": 26,
   "metadata": {},
   "outputs": [],
   "source": [
    "# 테이블 행 제거\n",
    "user_id = 3\n",
    "sql = \"DELETE FROM user_info WHERE USER_ID = %d\" % (user_id)\n",
    "joohyeong_db.execute(sql)\n",
    "db_conn.commit()"
   ]
  },
  {
   "cell_type": "code",
   "execution_count": 30,
   "metadata": {},
   "outputs": [
    {
     "name": "stdout",
     "output_type": "stream",
     "text": [
      "(1, 'bles@kakao.com', 'A') <class 'tuple'>\n",
      "(2, 'gang@dgu.ac.kr', 'B') <class 'tuple'>\n",
      "(4, 'kamjabat@gmail.com', 'D') <class 'tuple'>\n"
     ]
    }
   ],
   "source": [
    "# user_id 3 삭제 후 테이블 다시 조회해보기\n",
    "\n",
    "# user_info 테이블에서 전체 행 선택 SQL문\n",
    "sql = \"SELECT * FROM user_info\"\n",
    "joohyeong_db.execute(sql)\n",
    "\n",
    "# 위에서 SELECT한 행들 전부 가져오기\n",
    "results = joohyeong_db.fetchall()\n",
    "\n",
    "for result in results:\n",
    "    print(result, type(result))"
   ]
  },
  {
   "cell_type": "code",
   "execution_count": 31,
   "metadata": {},
   "outputs": [],
   "source": [
    "# 데이터베이스 연결 해제\n",
    "\n",
    "db_conn.close()"
   ]
  }
 ],
 "metadata": {
  "kernelspec": {
   "display_name": "flask_practice",
   "language": "python",
   "name": "python3"
  },
  "language_info": {
   "codemirror_mode": {
    "name": "ipython",
    "version": 3
   },
   "file_extension": ".py",
   "mimetype": "text/x-python",
   "name": "python",
   "nbconvert_exporter": "python",
   "pygments_lexer": "ipython3",
   "version": "3.11.0"
  },
  "orig_nbformat": 4
 },
 "nbformat": 4,
 "nbformat_minor": 2
}
